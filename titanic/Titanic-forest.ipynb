{
 "cells": [
  {
   "cell_type": "code",
   "execution_count": 5,
   "metadata": {
    "collapsed": true
   },
   "outputs": [],
   "source": [
    "from sklearn.ensemble import RandomForestRegressor\n",
    "from sklearn.metrics import roc_auc_score\n",
    "import pandas as pd"
   ]
  },
  {
   "cell_type": "code",
   "execution_count": 83,
   "metadata": {},
   "outputs": [],
   "source": [
    "# Data from kaggle Titanic competition\n",
    "train_df = pd.read_csv('data/train.csv')  # train set\n",
    "test_df = pd.read_csv('data/test.csv')   # test  set\n",
    "X = train_df.drop(\"Survived\", axis=1)\n",
    "y = train_df[\"Survived\"]\n",
    "X_test = test_df.drop(\"PassengerId\", axis=1).copy()"
   ]
  },
  {
   "cell_type": "code",
   "execution_count": 84,
   "metadata": {},
   "outputs": [
    {
     "data": {
      "text/html": [
       "<div>\n",
       "<table border=\"1\" class=\"dataframe\">\n",
       "  <thead>\n",
       "    <tr style=\"text-align: right;\">\n",
       "      <th></th>\n",
       "      <th>PassengerId</th>\n",
       "      <th>Pclass</th>\n",
       "      <th>Age</th>\n",
       "      <th>SibSp</th>\n",
       "      <th>Parch</th>\n",
       "      <th>Fare</th>\n",
       "    </tr>\n",
       "  </thead>\n",
       "  <tbody>\n",
       "    <tr>\n",
       "      <th>count</th>\n",
       "      <td>891.000000</td>\n",
       "      <td>891.000000</td>\n",
       "      <td>714.000000</td>\n",
       "      <td>891.000000</td>\n",
       "      <td>891.000000</td>\n",
       "      <td>891.000000</td>\n",
       "    </tr>\n",
       "    <tr>\n",
       "      <th>mean</th>\n",
       "      <td>446.000000</td>\n",
       "      <td>2.308642</td>\n",
       "      <td>29.699118</td>\n",
       "      <td>0.523008</td>\n",
       "      <td>0.381594</td>\n",
       "      <td>32.204208</td>\n",
       "    </tr>\n",
       "    <tr>\n",
       "      <th>std</th>\n",
       "      <td>257.353842</td>\n",
       "      <td>0.836071</td>\n",
       "      <td>14.526497</td>\n",
       "      <td>1.102743</td>\n",
       "      <td>0.806057</td>\n",
       "      <td>49.693429</td>\n",
       "    </tr>\n",
       "    <tr>\n",
       "      <th>min</th>\n",
       "      <td>1.000000</td>\n",
       "      <td>1.000000</td>\n",
       "      <td>0.420000</td>\n",
       "      <td>0.000000</td>\n",
       "      <td>0.000000</td>\n",
       "      <td>0.000000</td>\n",
       "    </tr>\n",
       "    <tr>\n",
       "      <th>25%</th>\n",
       "      <td>223.500000</td>\n",
       "      <td>2.000000</td>\n",
       "      <td>20.125000</td>\n",
       "      <td>0.000000</td>\n",
       "      <td>0.000000</td>\n",
       "      <td>7.910400</td>\n",
       "    </tr>\n",
       "    <tr>\n",
       "      <th>50%</th>\n",
       "      <td>446.000000</td>\n",
       "      <td>3.000000</td>\n",
       "      <td>28.000000</td>\n",
       "      <td>0.000000</td>\n",
       "      <td>0.000000</td>\n",
       "      <td>14.454200</td>\n",
       "    </tr>\n",
       "    <tr>\n",
       "      <th>75%</th>\n",
       "      <td>668.500000</td>\n",
       "      <td>3.000000</td>\n",
       "      <td>38.000000</td>\n",
       "      <td>1.000000</td>\n",
       "      <td>0.000000</td>\n",
       "      <td>31.000000</td>\n",
       "    </tr>\n",
       "    <tr>\n",
       "      <th>max</th>\n",
       "      <td>891.000000</td>\n",
       "      <td>3.000000</td>\n",
       "      <td>80.000000</td>\n",
       "      <td>8.000000</td>\n",
       "      <td>6.000000</td>\n",
       "      <td>512.329200</td>\n",
       "    </tr>\n",
       "  </tbody>\n",
       "</table>\n",
       "</div>"
      ],
      "text/plain": [
       "<div>\n",
       "<table border=\"1\" class=\"dataframe\">\n",
       "  <thead>\n",
       "    <tr style=\"text-align: right;\">\n",
       "      <th></th>\n",
       "      <th>PassengerId</th>\n",
       "      <th>Pclass</th>\n",
       "      <th>Age</th>\n",
       "      <th>SibSp</th>\n",
       "      <th>Parch</th>\n",
       "      <th>Fare</th>\n",
       "    </tr>\n",
       "  </thead>\n",
       "  <tbody>\n",
       "    <tr>\n",
       "      <th>count</th>\n",
       "      <td>891.000000</td>\n",
       "      <td>891.000000</td>\n",
       "      <td>714.000000</td>\n",
       "      <td>891.000000</td>\n",
       "      <td>891.000000</td>\n",
       "      <td>891.000000</td>\n",
       "    </tr>\n",
       "    <tr>\n",
       "      <th>mean</th>\n",
       "      <td>446.000000</td>\n",
       "      <td>2.308642</td>\n",
       "      <td>29.699118</td>\n",
       "      <td>0.523008</td>\n",
       "      <td>0.381594</td>\n",
       "      <td>32.204208</td>\n",
       "    </tr>\n",
       "    <tr>\n",
       "      <th>std</th>\n",
       "      <td>257.353842</td>\n",
       "      <td>0.836071</td>\n",
       "      <td>14.526497</td>\n",
       "      <td>1.102743</td>\n",
       "      <td>0.806057</td>\n",
       "      <td>49.693429</td>\n",
       "    </tr>\n",
       "    <tr>\n",
       "      <th>min</th>\n",
       "      <td>1.000000</td>\n",
       "      <td>1.000000</td>\n",
       "      <td>0.420000</td>\n",
       "      <td>0.000000</td>\n",
       "      <td>0.000000</td>\n",
       "      <td>0.000000</td>\n",
       "    </tr>\n",
       "    <tr>\n",
       "      <th>25%</th>\n",
       "      <td>223.500000</td>\n",
       "      <td>2.000000</td>\n",
       "      <td>20.125000</td>\n",
       "      <td>0.000000</td>\n",
       "      <td>0.000000</td>\n",
       "      <td>7.910400</td>\n",
       "    </tr>\n",
       "    <tr>\n",
       "      <th>50%</th>\n",
       "      <td>446.000000</td>\n",
       "      <td>3.000000</td>\n",
       "      <td>28.000000</td>\n",
       "      <td>0.000000</td>\n",
       "      <td>0.000000</td>\n",
       "      <td>14.454200</td>\n",
       "    </tr>\n",
       "    <tr>\n",
       "      <th>75%</th>\n",
       "      <td>668.500000</td>\n",
       "      <td>3.000000</td>\n",
       "      <td>38.000000</td>\n",
       "      <td>1.000000</td>\n",
       "      <td>0.000000</td>\n",
       "      <td>31.000000</td>\n",
       "    </tr>\n",
       "    <tr>\n",
       "      <th>max</th>\n",
       "      <td>891.000000</td>\n",
       "      <td>3.000000</td>\n",
       "      <td>80.000000</td>\n",
       "      <td>8.000000</td>\n",
       "      <td>6.000000</td>\n",
       "      <td>512.329200</td>\n",
       "    </tr>\n",
       "  </tbody>\n",
       "</table>\n",
       "</div>"
      ]
     },
     "execution_count": 84,
     "metadata": {},
     "output_type": "execute_result"
    }
   ],
   "source": [
    "X.describe()"
   ]
  },
  {
   "cell_type": "code",
   "execution_count": 85,
   "metadata": {},
   "outputs": [
    {
     "data": {
      "text/html": [
       "<div>\n",
       "<table border=\"1\" class=\"dataframe\">\n",
       "  <thead>\n",
       "    <tr style=\"text-align: right;\">\n",
       "      <th></th>\n",
       "      <th>PassengerId</th>\n",
       "      <th>Pclass</th>\n",
       "      <th>Age</th>\n",
       "      <th>SibSp</th>\n",
       "      <th>Parch</th>\n",
       "      <th>Fare</th>\n",
       "    </tr>\n",
       "  </thead>\n",
       "  <tbody>\n",
       "    <tr>\n",
       "      <th>count</th>\n",
       "      <td>891.000000</td>\n",
       "      <td>891.000000</td>\n",
       "      <td>891.000000</td>\n",
       "      <td>891.000000</td>\n",
       "      <td>891.000000</td>\n",
       "      <td>891.000000</td>\n",
       "    </tr>\n",
       "    <tr>\n",
       "      <th>mean</th>\n",
       "      <td>446.000000</td>\n",
       "      <td>2.308642</td>\n",
       "      <td>29.699118</td>\n",
       "      <td>0.523008</td>\n",
       "      <td>0.381594</td>\n",
       "      <td>32.204208</td>\n",
       "    </tr>\n",
       "    <tr>\n",
       "      <th>std</th>\n",
       "      <td>257.353842</td>\n",
       "      <td>0.836071</td>\n",
       "      <td>13.002015</td>\n",
       "      <td>1.102743</td>\n",
       "      <td>0.806057</td>\n",
       "      <td>49.693429</td>\n",
       "    </tr>\n",
       "    <tr>\n",
       "      <th>min</th>\n",
       "      <td>1.000000</td>\n",
       "      <td>1.000000</td>\n",
       "      <td>0.420000</td>\n",
       "      <td>0.000000</td>\n",
       "      <td>0.000000</td>\n",
       "      <td>0.000000</td>\n",
       "    </tr>\n",
       "    <tr>\n",
       "      <th>25%</th>\n",
       "      <td>223.500000</td>\n",
       "      <td>2.000000</td>\n",
       "      <td>22.000000</td>\n",
       "      <td>0.000000</td>\n",
       "      <td>0.000000</td>\n",
       "      <td>7.910400</td>\n",
       "    </tr>\n",
       "    <tr>\n",
       "      <th>50%</th>\n",
       "      <td>446.000000</td>\n",
       "      <td>3.000000</td>\n",
       "      <td>29.699118</td>\n",
       "      <td>0.000000</td>\n",
       "      <td>0.000000</td>\n",
       "      <td>14.454200</td>\n",
       "    </tr>\n",
       "    <tr>\n",
       "      <th>75%</th>\n",
       "      <td>668.500000</td>\n",
       "      <td>3.000000</td>\n",
       "      <td>35.000000</td>\n",
       "      <td>1.000000</td>\n",
       "      <td>0.000000</td>\n",
       "      <td>31.000000</td>\n",
       "    </tr>\n",
       "    <tr>\n",
       "      <th>max</th>\n",
       "      <td>891.000000</td>\n",
       "      <td>3.000000</td>\n",
       "      <td>80.000000</td>\n",
       "      <td>8.000000</td>\n",
       "      <td>6.000000</td>\n",
       "      <td>512.329200</td>\n",
       "    </tr>\n",
       "  </tbody>\n",
       "</table>\n",
       "</div>"
      ],
      "text/plain": [
       "<div>\n",
       "<table border=\"1\" class=\"dataframe\">\n",
       "  <thead>\n",
       "    <tr style=\"text-align: right;\">\n",
       "      <th></th>\n",
       "      <th>PassengerId</th>\n",
       "      <th>Pclass</th>\n",
       "      <th>Age</th>\n",
       "      <th>SibSp</th>\n",
       "      <th>Parch</th>\n",
       "      <th>Fare</th>\n",
       "    </tr>\n",
       "  </thead>\n",
       "  <tbody>\n",
       "    <tr>\n",
       "      <th>count</th>\n",
       "      <td>891.000000</td>\n",
       "      <td>891.000000</td>\n",
       "      <td>891.000000</td>\n",
       "      <td>891.000000</td>\n",
       "      <td>891.000000</td>\n",
       "      <td>891.000000</td>\n",
       "    </tr>\n",
       "    <tr>\n",
       "      <th>mean</th>\n",
       "      <td>446.000000</td>\n",
       "      <td>2.308642</td>\n",
       "      <td>29.699118</td>\n",
       "      <td>0.523008</td>\n",
       "      <td>0.381594</td>\n",
       "      <td>32.204208</td>\n",
       "    </tr>\n",
       "    <tr>\n",
       "      <th>std</th>\n",
       "      <td>257.353842</td>\n",
       "      <td>0.836071</td>\n",
       "      <td>13.002015</td>\n",
       "      <td>1.102743</td>\n",
       "      <td>0.806057</td>\n",
       "      <td>49.693429</td>\n",
       "    </tr>\n",
       "    <tr>\n",
       "      <th>min</th>\n",
       "      <td>1.000000</td>\n",
       "      <td>1.000000</td>\n",
       "      <td>0.420000</td>\n",
       "      <td>0.000000</td>\n",
       "      <td>0.000000</td>\n",
       "      <td>0.000000</td>\n",
       "    </tr>\n",
       "    <tr>\n",
       "      <th>25%</th>\n",
       "      <td>223.500000</td>\n",
       "      <td>2.000000</td>\n",
       "      <td>22.000000</td>\n",
       "      <td>0.000000</td>\n",
       "      <td>0.000000</td>\n",
       "      <td>7.910400</td>\n",
       "    </tr>\n",
       "    <tr>\n",
       "      <th>50%</th>\n",
       "      <td>446.000000</td>\n",
       "      <td>3.000000</td>\n",
       "      <td>29.699118</td>\n",
       "      <td>0.000000</td>\n",
       "      <td>0.000000</td>\n",
       "      <td>14.454200</td>\n",
       "    </tr>\n",
       "    <tr>\n",
       "      <th>75%</th>\n",
       "      <td>668.500000</td>\n",
       "      <td>3.000000</td>\n",
       "      <td>35.000000</td>\n",
       "      <td>1.000000</td>\n",
       "      <td>0.000000</td>\n",
       "      <td>31.000000</td>\n",
       "    </tr>\n",
       "    <tr>\n",
       "      <th>max</th>\n",
       "      <td>891.000000</td>\n",
       "      <td>3.000000</td>\n",
       "      <td>80.000000</td>\n",
       "      <td>8.000000</td>\n",
       "      <td>6.000000</td>\n",
       "      <td>512.329200</td>\n",
       "    </tr>\n",
       "  </tbody>\n",
       "</table>\n",
       "</div>"
      ]
     },
     "execution_count": 85,
     "metadata": {},
     "output_type": "execute_result"
    }
   ],
   "source": [
    "X[\"Age\"].fillna(X.Age.mean(), inplace=True)\n",
    "X.describe()"
   ]
  },
  {
   "cell_type": "code",
   "execution_count": 86,
   "metadata": {},
   "outputs": [
    {
     "data": {
      "text/html": [
       "<div>\n",
       "<table border=\"1\" class=\"dataframe\">\n",
       "  <thead>\n",
       "    <tr style=\"text-align: right;\">\n",
       "      <th></th>\n",
       "      <th>PassengerId</th>\n",
       "      <th>Pclass</th>\n",
       "      <th>Age</th>\n",
       "      <th>SibSp</th>\n",
       "      <th>Parch</th>\n",
       "      <th>Fare</th>\n",
       "    </tr>\n",
       "  </thead>\n",
       "  <tbody>\n",
       "    <tr>\n",
       "      <th>0</th>\n",
       "      <td>1</td>\n",
       "      <td>3</td>\n",
       "      <td>22.0</td>\n",
       "      <td>1</td>\n",
       "      <td>0</td>\n",
       "      <td>7.2500</td>\n",
       "    </tr>\n",
       "    <tr>\n",
       "      <th>1</th>\n",
       "      <td>2</td>\n",
       "      <td>1</td>\n",
       "      <td>38.0</td>\n",
       "      <td>1</td>\n",
       "      <td>0</td>\n",
       "      <td>71.2833</td>\n",
       "    </tr>\n",
       "    <tr>\n",
       "      <th>2</th>\n",
       "      <td>3</td>\n",
       "      <td>3</td>\n",
       "      <td>26.0</td>\n",
       "      <td>0</td>\n",
       "      <td>0</td>\n",
       "      <td>7.9250</td>\n",
       "    </tr>\n",
       "    <tr>\n",
       "      <th>3</th>\n",
       "      <td>4</td>\n",
       "      <td>1</td>\n",
       "      <td>35.0</td>\n",
       "      <td>1</td>\n",
       "      <td>0</td>\n",
       "      <td>53.1000</td>\n",
       "    </tr>\n",
       "    <tr>\n",
       "      <th>4</th>\n",
       "      <td>5</td>\n",
       "      <td>3</td>\n",
       "      <td>35.0</td>\n",
       "      <td>0</td>\n",
       "      <td>0</td>\n",
       "      <td>8.0500</td>\n",
       "    </tr>\n",
       "  </tbody>\n",
       "</table>\n",
       "</div>"
      ],
      "text/plain": [
       "<div>\n",
       "<table border=\"1\" class=\"dataframe\">\n",
       "  <thead>\n",
       "    <tr style=\"text-align: right;\">\n",
       "      <th></th>\n",
       "      <th>PassengerId</th>\n",
       "      <th>Pclass</th>\n",
       "      <th>Age</th>\n",
       "      <th>SibSp</th>\n",
       "      <th>Parch</th>\n",
       "      <th>Fare</th>\n",
       "    </tr>\n",
       "  </thead>\n",
       "  <tbody>\n",
       "    <tr>\n",
       "      <th>0</th>\n",
       "      <td>1</td>\n",
       "      <td>3</td>\n",
       "      <td>22.0</td>\n",
       "      <td>1</td>\n",
       "      <td>0</td>\n",
       "      <td>7.2500</td>\n",
       "    </tr>\n",
       "    <tr>\n",
       "      <th>1</th>\n",
       "      <td>2</td>\n",
       "      <td>1</td>\n",
       "      <td>38.0</td>\n",
       "      <td>1</td>\n",
       "      <td>0</td>\n",
       "      <td>71.2833</td>\n",
       "    </tr>\n",
       "    <tr>\n",
       "      <th>2</th>\n",
       "      <td>3</td>\n",
       "      <td>3</td>\n",
       "      <td>26.0</td>\n",
       "      <td>0</td>\n",
       "      <td>0</td>\n",
       "      <td>7.9250</td>\n",
       "    </tr>\n",
       "    <tr>\n",
       "      <th>3</th>\n",
       "      <td>4</td>\n",
       "      <td>1</td>\n",
       "      <td>35.0</td>\n",
       "      <td>1</td>\n",
       "      <td>0</td>\n",
       "      <td>53.1000</td>\n",
       "    </tr>\n",
       "    <tr>\n",
       "      <th>4</th>\n",
       "      <td>5</td>\n",
       "      <td>3</td>\n",
       "      <td>35.0</td>\n",
       "      <td>0</td>\n",
       "      <td>0</td>\n",
       "      <td>8.0500</td>\n",
       "    </tr>\n",
       "  </tbody>\n",
       "</table>\n",
       "</div>"
      ]
     },
     "execution_count": 86,
     "metadata": {},
     "output_type": "execute_result"
    }
   ],
   "source": [
    "numeric_variables = list(X.dtypes[X.dtypes != \"object\"].index)\n",
    "X[numeric_variables].head()"
   ]
  },
  {
   "cell_type": "code",
   "execution_count": 87,
   "metadata": {},
   "outputs": [
    {
     "data": {
      "text/plain": [
       "RandomForestRegressor(bootstrap=True, criterion='mse', max_depth=None,\n           max_features='auto', max_leaf_nodes=None,\n           min_impurity_split=1e-07, min_samples_leaf=1,\n           min_samples_split=2, min_weight_fraction_leaf=0.0,\n           n_estimators=100, n_jobs=1, oob_score=True, random_state=42,\n           verbose=0, warm_start=False)"
      ]
     },
     "execution_count": 87,
     "metadata": {},
     "output_type": "execute_result"
    }
   ],
   "source": [
    "model = RandomForestRegressor(n_estimators=100, oob_score=True, random_state=42)\n",
    "model.fit(X[numeric_variables], y)"
   ]
  },
  {
   "cell_type": "code",
   "execution_count": 88,
   "metadata": {},
   "outputs": [
    {
     "data": {
      "text/plain": [
       "0.1361695005913669"
      ]
     },
     "execution_count": 88,
     "metadata": {},
     "output_type": "execute_result"
    }
   ],
   "source": [
    "model.oob_score_"
   ]
  },
  {
   "cell_type": "code",
   "execution_count": 89,
   "metadata": {},
   "outputs": [
    {
     "name": "stdout",
     "output_type": "stream",
     "text": [
      "c-stat:  0.73995515504\n"
     ]
    }
   ],
   "source": [
    "y_oob = model.oob_prediction_\n",
    "print(\"c-stat: \", roc_auc_score(y, y_oob))"
   ]
  },
  {
   "cell_type": "code",
   "execution_count": 90,
   "metadata": {},
   "outputs": [
    {
     "data": {
      "text/html": [
       "<div>\n",
       "<table border=\"1\" class=\"dataframe\">\n",
       "  <thead>\n",
       "    <tr style=\"text-align: right;\">\n",
       "      <th></th>\n",
       "      <th>Name</th>\n",
       "      <th>Sex</th>\n",
       "      <th>Ticket</th>\n",
       "      <th>Cabin</th>\n",
       "      <th>Embarked</th>\n",
       "    </tr>\n",
       "  </thead>\n",
       "  <tbody>\n",
       "    <tr>\n",
       "      <th>count</th>\n",
       "      <td>891</td>\n",
       "      <td>891</td>\n",
       "      <td>891</td>\n",
       "      <td>204</td>\n",
       "      <td>889</td>\n",
       "    </tr>\n",
       "    <tr>\n",
       "      <th>unique</th>\n",
       "      <td>891</td>\n",
       "      <td>2</td>\n",
       "      <td>681</td>\n",
       "      <td>147</td>\n",
       "      <td>3</td>\n",
       "    </tr>\n",
       "    <tr>\n",
       "      <th>top</th>\n",
       "      <td>Mack, Mrs. (Mary)</td>\n",
       "      <td>male</td>\n",
       "      <td>CA. 2343</td>\n",
       "      <td>C23 C25 C27</td>\n",
       "      <td>S</td>\n",
       "    </tr>\n",
       "    <tr>\n",
       "      <th>freq</th>\n",
       "      <td>1</td>\n",
       "      <td>577</td>\n",
       "      <td>7</td>\n",
       "      <td>4</td>\n",
       "      <td>644</td>\n",
       "    </tr>\n",
       "  </tbody>\n",
       "</table>\n",
       "</div>"
      ],
      "text/plain": [
       "<div>\n",
       "<table border=\"1\" class=\"dataframe\">\n",
       "  <thead>\n",
       "    <tr style=\"text-align: right;\">\n",
       "      <th></th>\n",
       "      <th>Name</th>\n",
       "      <th>Sex</th>\n",
       "      <th>Ticket</th>\n",
       "      <th>Cabin</th>\n",
       "      <th>Embarked</th>\n",
       "    </tr>\n",
       "  </thead>\n",
       "  <tbody>\n",
       "    <tr>\n",
       "      <th>count</th>\n",
       "      <td>891</td>\n",
       "      <td>891</td>\n",
       "      <td>891</td>\n",
       "      <td>204</td>\n",
       "      <td>889</td>\n",
       "    </tr>\n",
       "    <tr>\n",
       "      <th>unique</th>\n",
       "      <td>891</td>\n",
       "      <td>2</td>\n",
       "      <td>681</td>\n",
       "      <td>147</td>\n",
       "      <td>3</td>\n",
       "    </tr>\n",
       "    <tr>\n",
       "      <th>top</th>\n",
       "      <td>Mack, Mrs. (Mary)</td>\n",
       "      <td>male</td>\n",
       "      <td>CA. 2343</td>\n",
       "      <td>C23 C25 C27</td>\n",
       "      <td>S</td>\n",
       "    </tr>\n",
       "    <tr>\n",
       "      <th>freq</th>\n",
       "      <td>1</td>\n",
       "      <td>577</td>\n",
       "      <td>7</td>\n",
       "      <td>4</td>\n",
       "      <td>644</td>\n",
       "    </tr>\n",
       "  </tbody>\n",
       "</table>\n",
       "</div>"
      ]
     },
     "execution_count": 90,
     "metadata": {},
     "output_type": "execute_result"
    }
   ],
   "source": [
    "# describe objects\n",
    "X.describe(include=['O'])"
   ]
  },
  {
   "cell_type": "code",
   "execution_count": 91,
   "metadata": {},
   "outputs": [],
   "source": [
    "X.drop([\"Name\", \"Ticket\", \"PassengerId\", \"Parch\"], axis=1, inplace=True)"
   ]
  },
  {
   "cell_type": "code",
   "execution_count": 92,
   "metadata": {},
   "outputs": [],
   "source": [
    "# first letter of cabin\n",
    "def clean_cabin(x):\n",
    "    try:\n",
    "        return x[0]\n",
    "    except TypeError:\n",
    "        return \"None\"\n",
    "    \n",
    "    \n",
    "X[\"Cabin\"] = X.Cabin.apply(clean_cabin)"
   ]
  },
  {
   "cell_type": "code",
   "execution_count": 93,
   "metadata": {},
   "outputs": [],
   "source": [
    "categorial_variables = [\"Sex\", \"Cabin\", \"Embarked\"]\n",
    "\n",
    "for variable in categorial_variables:\n",
    "    X[variable].fillna(\"Missing\", inplace=True)\n",
    "    dummies = pd.get_dummies(X[variable], prefix=variable)\n",
    "    X = pd.concat([X, dummies], axis=1)\n",
    "    X.drop([variable], axis=1, inplace=True)"
   ]
  },
  {
   "cell_type": "code",
   "execution_count": 94,
   "metadata": {},
   "outputs": [
    {
     "name": "stdout",
     "output_type": "stream",
     "text": [
      "C-stat:  0.865787343282\n"
     ]
    }
   ],
   "source": [
    "model = RandomForestRegressor(100, oob_score=True, n_jobs=-1, random_state=42)\n",
    "model.fit(X, y)\n",
    "print(\"C-stat: \", roc_auc_score(y, model.oob_prediction_))"
   ]
  },
  {
   "cell_type": "code",
   "execution_count": 95,
   "metadata": {},
   "outputs": [
    {
     "data": {
      "text/plain": [
       "array([  9.12074602e-02,   2.46984034e-01,   4.73847172e-02,\n         2.23899970e-01,   1.55781139e-01,   1.47375082e-01,\n         2.84323202e-03,   3.53404020e-03,   5.91966977e-03,\n         4.16794234e-03,   8.73328868e-03,   9.57042886e-04,\n         7.14562953e-04,   2.70678793e-02,   1.48321454e-04,\n         1.06803132e-02,   0.00000000e+00,   6.07022450e-03,\n         1.65310800e-02])"
      ]
     },
     "execution_count": 95,
     "metadata": {},
     "output_type": "execute_result"
    }
   ],
   "source": [
    "# Variable Importance measures\n",
    "model.feature_importances_"
   ]
  },
  {
   "cell_type": "code",
   "execution_count": 96,
   "metadata": {},
   "outputs": [
    {
     "name": "stderr",
     "output_type": "stream",
     "text": [
      "G:\\Users\\Av\\Miniconda3\\lib\\site-packages\\ipykernel\\__main__.py:3: FutureWarning: sort is deprecated, use sort_values(inplace=True) for INPLACE sorting\n  app.launch_new_instance()\n"
     ]
    },
    {
     "data": {
      "text/plain": [
       "<matplotlib.axes._subplots.AxesSubplot at 0x20d26ac0048>"
      ]
     },
     "execution_count": 96,
     "metadata": {},
     "output_type": "execute_result"
    },
    {
     "data": {
      "image/png": "[encoded data removed]",
      "text/plain": [
       "<matplotlib.figure.Figure at 0x20d26a1f6d8>"
      ]
     },
     "metadata": {},
     "output_type": "display_data"
    }
   ],
   "source": [
    "%matplotlib inline\n",
    "feature_importances = pd.Series(model.feature_importances_, index=X.columns)\n",
    "feature_importances.sort()\n",
    "feature_importances.plot(kind=\"barh\", figsize=(7,6))"
   ]
  },
  {
   "cell_type": "code",
   "execution_count": 97,
   "metadata": {},
   "outputs": [],
   "source": [
    "def graph_feature_importances(model, feature_names, autoscale=True, headroom=0.05, width=10, summarized_columns=None):\n",
    "    if autoscale:\n",
    "        x_scale = model.feature_importances_.max() + headroom\n",
    "    else: \n",
    "        x_scale = 1\n",
    "    \n",
    "    feature_dict = dict(zip(feature_names, model.feature_importances_))\n",
    "    \n",
    "    if summarized_columns:\n",
    "        for col_name in summarized_columns:\n",
    "            sum_value = sum(x for i, x in feature_dict.items() if col_name in i)\n",
    "            keys_to_remove = [i for i in feature_dict.keys() if col_name in i]\n",
    "            for i in keys_to_remove:\n",
    "                feature_dict.pop(i)\n",
    "            \n",
    "            feature_dict[col_name] = sum_value\n",
    "            \n",
    "    results = pd.Series(list(feature_dict.values()), index=feature_dict.keys())\n",
    "    results.sort(axis=1)\n",
    "    \n",
    "    results.plot(kind=\"barh\", figsize=(width, len(results) / 4), xlim=(0, x_scale))"
   ]
  },
  {
   "cell_type": "code",
   "execution_count": null,
   "metadata": {
    "collapsed": false
   },
   "outputs": [],
   "source": [
    "graph_feature_importances(model, X.columns, summarized_columns=categorial_variables)\n",
    "# Parameter tests\n",
    "model = RandomForestRegressor(1000, oob_score=True, n_jobs=1, random_state=42)\n",
    "%timeit model.fit(X, y)"
   ]
  },
  {
   "cell_type": "code",
   "execution_count": 99,
   "metadata": {},
   "outputs": [
    {
     "ename": "ValueError",
     "evalue": "labels ['PassengerId'] not contained in axis",
     "traceback": [
      "\u001b[1;31m---------------------------------------------------------------------------\u001b[0m",
      "\u001b[1;31mValueError\u001b[0m                                Traceback (most recent call last)",
      "\u001b[1;32m<ipython-input-99-5571fd3df0a7>\u001b[0m in \u001b[0;36m<module>\u001b[1;34m()\u001b[0m\n\u001b[1;32m----> 1\u001b[1;33m \u001b[0mX_test\u001b[0m \u001b[1;33m=\u001b[0m \u001b[0mX\u001b[0m\u001b[1;33m.\u001b[0m\u001b[0mdrop\u001b[0m\u001b[1;33m(\u001b[0m\u001b[1;34m\"PassengerId\"\u001b[0m\u001b[1;33m,\u001b[0m \u001b[0maxis\u001b[0m\u001b[1;33m=\u001b[0m\u001b[1;36m1\u001b[0m\u001b[1;33m)\u001b[0m\u001b[1;33m.\u001b[0m\u001b[0mcopy\u001b[0m\u001b[1;33m(\u001b[0m\u001b[1;33m)\u001b[0m\u001b[1;33m\u001b[0m\u001b[0m\n\u001b[0m\u001b[0;32m      2\u001b[0m \u001b[1;33m\u001b[0m\u001b[0m\n\u001b[0;32m      3\u001b[0m \u001b[0mmodel\u001b[0m \u001b[1;33m=\u001b[0m \u001b[0mRandomForestRegressor\u001b[0m\u001b[1;33m(\u001b[0m\u001b[0mn_estimators\u001b[0m\u001b[1;33m=\u001b[0m\u001b[1;36m1000\u001b[0m\u001b[1;33m,\u001b[0m \u001b[0moob_score\u001b[0m\u001b[1;33m=\u001b[0m\u001b[1;32mTrue\u001b[0m\u001b[1;33m,\u001b[0m \u001b[0mn_jobs\u001b[0m\u001b[1;33m=\u001b[0m\u001b[1;33m-\u001b[0m\u001b[1;36m1\u001b[0m\u001b[1;33m,\u001b[0m \u001b[0mrandom_state\u001b[0m\u001b[1;33m=\u001b[0m\u001b[1;36m42\u001b[0m\u001b[1;33m)\u001b[0m\u001b[1;33m\u001b[0m\u001b[0m\n\u001b[0;32m      4\u001b[0m \u001b[0mget_ipython\u001b[0m\u001b[1;33m(\u001b[0m\u001b[1;33m)\u001b[0m\u001b[1;33m.\u001b[0m\u001b[0mmagic\u001b[0m\u001b[1;33m(\u001b[0m\u001b[1;34m'timeit model.fit(X, y)'\u001b[0m\u001b[1;33m)\u001b[0m\u001b[1;33m\u001b[0m\u001b[0m\n",
      "\u001b[1;32mG:\\Users\\Av\\Miniconda3\\lib\\site-packages\\pandas\\core\\generic.py\u001b[0m in \u001b[0;36mdrop\u001b[1;34m(self, labels, axis, level, inplace, errors)\u001b[0m\n\u001b[0;32m   1905\u001b[0m                 \u001b[0mnew_axis\u001b[0m \u001b[1;33m=\u001b[0m \u001b[0maxis\u001b[0m\u001b[1;33m.\u001b[0m\u001b[0mdrop\u001b[0m\u001b[1;33m(\u001b[0m\u001b[0mlabels\u001b[0m\u001b[1;33m,\u001b[0m \u001b[0mlevel\u001b[0m\u001b[1;33m=\u001b[0m\u001b[0mlevel\u001b[0m\u001b[1;33m,\u001b[0m \u001b[0merrors\u001b[0m\u001b[1;33m=\u001b[0m\u001b[0merrors\u001b[0m\u001b[1;33m)\u001b[0m\u001b[1;33m\u001b[0m\u001b[0m\n\u001b[0;32m   1906\u001b[0m             \u001b[1;32melse\u001b[0m\u001b[1;33m:\u001b[0m\u001b[1;33m\u001b[0m\u001b[0m\n\u001b[1;32m-> 1907\u001b[1;33m                 \u001b[0mnew_axis\u001b[0m \u001b[1;33m=\u001b[0m \u001b[0maxis\u001b[0m\u001b[1;33m.\u001b[0m\u001b[0mdrop\u001b[0m\u001b[1;33m(\u001b[0m\u001b[0mlabels\u001b[0m\u001b[1;33m,\u001b[0m \u001b[0merrors\u001b[0m\u001b[1;33m=\u001b[0m\u001b[0merrors\u001b[0m\u001b[1;33m)\u001b[0m\u001b[1;33m\u001b[0m\u001b[0m\n\u001b[0m\u001b[0;32m   1908\u001b[0m             \u001b[0mdropped\u001b[0m \u001b[1;33m=\u001b[0m \u001b[0mself\u001b[0m\u001b[1;33m.\u001b[0m\u001b[0mreindex\u001b[0m\u001b[1;33m(\u001b[0m\u001b[1;33m**\u001b[0m\u001b[1;33m{\u001b[0m\u001b[0maxis_name\u001b[0m\u001b[1;33m:\u001b[0m \u001b[0mnew_axis\u001b[0m\u001b[1;33m}\u001b[0m\u001b[1;33m)\u001b[0m\u001b[1;33m\u001b[0m\u001b[0m\n\u001b[0;32m   1909\u001b[0m             \u001b[1;32mtry\u001b[0m\u001b[1;33m:\u001b[0m\u001b[1;33m\u001b[0m\u001b[0m\n",
      "\u001b[1;32mG:\\Users\\Av\\Miniconda3\\lib\\site-packages\\pandas\\indexes\\base.py\u001b[0m in \u001b[0;36mdrop\u001b[1;34m(self, labels, errors)\u001b[0m\n\u001b[0;32m   3260\u001b[0m             \u001b[1;32mif\u001b[0m \u001b[0merrors\u001b[0m \u001b[1;33m!=\u001b[0m \u001b[1;34m'ignore'\u001b[0m\u001b[1;33m:\u001b[0m\u001b[1;33m\u001b[0m\u001b[0m\n\u001b[0;32m   3261\u001b[0m                 raise ValueError('labels %s not contained in axis' %\n\u001b[1;32m-> 3262\u001b[1;33m                                  labels[mask])\n\u001b[0m\u001b[0;32m   3263\u001b[0m             \u001b[0mindexer\u001b[0m \u001b[1;33m=\u001b[0m \u001b[0mindexer\u001b[0m\u001b[1;33m[\u001b[0m\u001b[1;33m~\u001b[0m\u001b[0mmask\u001b[0m\u001b[1;33m]\u001b[0m\u001b[1;33m\u001b[0m\u001b[0m\n\u001b[0;32m   3264\u001b[0m         \u001b[1;32mreturn\u001b[0m \u001b[0mself\u001b[0m\u001b[1;33m.\u001b[0m\u001b[0mdelete\u001b[0m\u001b[1;33m(\u001b[0m\u001b[0mindexer\u001b[0m\u001b[1;33m)\u001b[0m\u001b[1;33m\u001b[0m\u001b[0m\n",
      "\u001b[1;31mValueError\u001b[0m: labels ['PassengerId'] not contained in axis"
     ],
     "output_type": "error"
    }
   ],
   "source": [
    "model = RandomForestRegressor(n_estimators=1000, oob_score=True, n_jobs=-1, random_state=42)\n",
    "% timeit model.fit(X, y)"
   ]
  },
  {
   "cell_type": "code",
   "execution_count": 29,
   "metadata": {
    "collapsed": true
   },
   "outputs": [
    {
     "name": "stdout",
     "output_type": "stream",
     "text": [
      "Fitting 10 folds for each of 7 candidates, totalling 70 fits\n"
     ]
    },
    {
     "name": "stderr",
     "output_type": "stream",
     "text": [
      "[Parallel(n_jobs=-1)]: Done  42 tasks      | elapsed:    7.7s\n"
     ]
    },
    {
     "name": "stderr",
     "output_type": "stream",
     "text": [
      "[Parallel(n_jobs=-1)]: Done  70 out of  70 | elapsed:   34.5s finished\n"
     ]
    },
    {
     "name": "stdout",
     "output_type": "stream",
     "text": [
      "0.863594705386 {'n_estimators': 1000} RandomForestRegressor(bootstrap=True, criterion='mse', max_depth=None,\n           max_features='auto', max_leaf_nodes=None,\n           min_impurity_split=1e-07, min_samples_leaf=1,\n           min_samples_split=2, min_weight_fraction_leaf=0.0,\n           n_estimators=1000, n_jobs=-1, oob_score=True, random_state=42,\n           verbose=0, warm_start=False)\n"
     ]
    }
   ],
   "source": [
    "# n-estimators\n",
    "from sklearn.model_selection import GridSearchCV\n",
    "n_estimator_options = [30, 50, 100, 200, 500, 1000, 2000]\n",
    "\n",
    "param_grid = dict(n_estimators=n_estimator_options)\n",
    "grid = GridSearchCV(RandomForestRegressor(oob_score=True, n_jobs=-1, random_state=42), param_grid, cv=10, scoring=\"roc_auc\", verbose=1, n_jobs=-1)\n",
    "grid.fit(X, y)\n",
    "print(grid.best_score_, grid.best_params_, grid.best_estimator_)"
   ]
  },
  {
   "cell_type": "code",
   "execution_count": 30,
   "metadata": {
    "collapsed": true
   },
   "outputs": [
    {
     "name": "stderr",
     "output_type": "stream",
     "text": [
      "G:\\Users\\Av\\Miniconda3\\lib\\site-packages\\sklearn\\model_selection\\_search.py:667: DeprecationWarning: The grid_scores_ attribute was deprecated in version 0.18 in favor of the more elaborate cv_results_ attribute. The grid_scores_ attribute will not be available from 0.20\n  DeprecationWarning)\n"
     ]
    },
    {
     "data": {
      "text/plain": [
       "<matplotlib.axes._subplots.AxesSubplot at 0x20d24700518>"
      ]
     },
     "execution_count": 30,
     "metadata": {},
     "output_type": "execute_result"
    },
    {
     "data": {
      "image/png": "[encoded data removed]",
      "text/plain": [
       "<matplotlib.figure.Figure at 0x20d24830e80>"
      ]
     },
     "metadata": {},
     "output_type": "display_data"
    }
   ],
   "source": [
    "means = [x[1] for x in grid.grid_scores_]\n",
    "pd.Series(means, n_estimator_options).plot()"
   ]
  },
  {
   "cell_type": "code",
   "execution_count": 31,
   "metadata": {
    "collapsed": true
   },
   "outputs": [
    {
     "name": "stdout",
     "output_type": "stream",
     "text": [
      "0.865892309834 {'max_features': 0.9} RandomForestRegressor(bootstrap=True, criterion='mse', max_depth=None,\n           max_features=0.9, max_leaf_nodes=None, min_impurity_split=1e-07,\n           min_samples_leaf=1, min_samples_split=2,\n           min_weight_fraction_leaf=0.0, n_estimators=1000, n_jobs=-1,\n           oob_score=True, random_state=42, verbose=0, warm_start=False)\n"
     ]
    }
   ],
   "source": [
    "# max features\n",
    "max_features_options = [\"auto\", None, \"sqrt\", \"log2\", 0.9, 0.2]\n",
    "param_grid = dict(max_features=max_features_options)\n",
    "grid = GridSearchCV(RandomForestRegressor(n_estimators=1000, oob_score=True, n_jobs=-1, random_state=42), param_grid, cv=10, scoring=\"roc_auc\", n_jobs=-1)\n",
    "grid.fit(X, y)\n",
    "print(grid.best_score_, grid.best_params_, grid.best_estimator_)"
   ]
  },
  {
   "cell_type": "code",
   "execution_count": 32,
   "metadata": {
    "collapsed": true
   },
   "outputs": [
    {
     "name": "stdout",
     "output_type": "stream",
     "text": [
      "[mean: 0.86359, std: 0.03849, params: {'max_features': 'auto'}, mean: 0.86359, std: 0.03849, params: {'max_features': None}, mean: 0.86584, std: 0.03465, params: {'max_features': 'sqrt'}, mean: 0.86584, std: 0.03465, params: {'max_features': 'log2'}, mean: 0.86589, std: 0.03758, params: {'max_features': 0.9}, mean: 0.86389, std: 0.03404, params: {'max_features': 0.2}]\n"
     ]
    },
    {
     "name": "stderr",
     "output_type": "stream",
     "text": [
      "G:\\Users\\Av\\Miniconda3\\lib\\site-packages\\sklearn\\model_selection\\_search.py:667: DeprecationWarning: The grid_scores_ attribute was deprecated in version 0.18 in favor of the more elaborate cv_results_ attribute. The grid_scores_ attribute will not be available from 0.20\n  DeprecationWarning)\nG:\\Users\\Av\\Miniconda3\\lib\\site-packages\\sklearn\\model_selection\\_search.py:667: DeprecationWarning: The grid_scores_ attribute was deprecated in version 0.18 in favor of the more elaborate cv_results_ attribute. The grid_scores_ attribute will not be available from 0.20\n  DeprecationWarning)\n"
     ]
    },
    {
     "data": {
      "text/plain": [
       "<matplotlib.axes._subplots.AxesSubplot at 0x20d2476b908>"
      ]
     },
     "execution_count": 32,
     "metadata": {},
     "output_type": "execute_result"
    },
    {
     "data": {
      "image/png": "[encoded data removed]",
      "text/plain": [
       "<matplotlib.figure.Figure at 0x20d2450be48>"
      ]
     },
     "metadata": {},
     "output_type": "display_data"
    }
   ],
   "source": [
    "print(grid.grid_scores_)\n",
    "means = [x[1] for x in grid.grid_scores_]\n",
    "pd.Series(means, max_features_options).plot()"
   ]
  },
  {
   "cell_type": "code",
   "execution_count": 34,
   "metadata": {},
   "outputs": [
    {
     "name": "stdout",
     "output_type": "stream",
     "text": [
      "0.872142808916 {'min_samples_leaf': 4} RandomForestRegressor(bootstrap=True, criterion='mse', max_depth=None,\n           max_features=0.9, max_leaf_nodes=None, min_impurity_split=1e-07,\n           min_samples_leaf=4, min_samples_split=2,\n           min_weight_fraction_leaf=0.0, n_estimators=1000, n_jobs=-1,\n           oob_score=True, random_state=42, verbose=0, warm_start=False)\n"
     ]
    }
   ],
   "source": [
    "# min samples leaf\n",
    "min_samples_options = range(1, 10)\n",
    "param_grid = dict(min_samples_leaf=min_samples_options)\n",
    "grid = GridSearchCV(RandomForestRegressor(n_estimators=1000, max_features=0.9, oob_score=True, n_jobs=-1, random_state=42), param_grid, cv=10, scoring=\"roc_auc\", n_jobs=-1)\n",
    "grid.fit(X, y)\n",
    "print(grid.best_score_, grid.best_params_, grid.best_estimator_)"
   ]
  },
  {
   "cell_type": "code",
   "execution_count": 35,
   "metadata": {},
   "outputs": [
    {
     "name": "stdout",
     "output_type": "stream",
     "text": [
      "[mean: 0.86589, std: 0.03758, params: {'min_samples_leaf': 1}, mean: 0.87046, std: 0.03934, params: {'min_samples_leaf': 2}, mean: 0.87147, std: 0.04000, params: {'min_samples_leaf': 3}, mean: 0.87214, std: 0.04003, params: {'min_samples_leaf': 4}, mean: 0.87057, std: 0.03996, params: {'min_samples_leaf': 5}, mean: 0.86984, std: 0.03975, params: {'min_samples_leaf': 6}, mean: 0.86900, std: 0.03967, params: {'min_samples_leaf': 7}, mean: 0.86707, std: 0.04072, params: {'min_samples_leaf': 8}, mean: 0.86579, std: 0.04072, params: {'min_samples_leaf': 9}]\n"
     ]
    },
    {
     "name": "stderr",
     "output_type": "stream",
     "text": [
      "G:\\Users\\Av\\Miniconda3\\lib\\site-packages\\sklearn\\model_selection\\_search.py:667: DeprecationWarning: The grid_scores_ attribute was deprecated in version 0.18 in favor of the more elaborate cv_results_ attribute. The grid_scores_ attribute will not be available from 0.20\n  DeprecationWarning)\nG:\\Users\\Av\\Miniconda3\\lib\\site-packages\\sklearn\\model_selection\\_search.py:667: DeprecationWarning: The grid_scores_ attribute was deprecated in version 0.18 in favor of the more elaborate cv_results_ attribute. The grid_scores_ attribute will not be available from 0.20\n  DeprecationWarning)\n"
     ]
    },
    {
     "data": {
      "text/plain": [
       "<matplotlib.axes._subplots.AxesSubplot at 0x20d2472d128>"
      ]
     },
     "execution_count": 35,
     "metadata": {},
     "output_type": "execute_result"
    },
    {
     "data": {
      "image/png": "[encoded data removed]",
      "text/plain": [
       "<matplotlib.figure.Figure at 0x20d2476b208>"
      ]
     },
     "metadata": {},
     "output_type": "display_data"
    }
   ],
   "source": [
    "print(grid.grid_scores_)\n",
    "means = [x[1] for x in grid.grid_scores_]\n",
    "pd.Series(means, min_samples_options).plot()"
   ]
  },
  {
   "cell_type": "code",
   "execution_count": 71,
   "metadata": {},
   "outputs": [
    {
     "name": "stdout",
     "output_type": "stream",
     "text": [
      "C-stat:  0.874450090009\n"
     ]
    }
   ],
   "source": [
    "# final model\n",
    "model = RandomForestRegressor(n_estimators=1000, max_features=0.9, min_samples_leaf=4, oob_score=True, n_jobs=-1, random_state=42)\n",
    "model.fit(X, y)\n",
    "roc = roc_auc_score(y, model.oob_prediction_)\n",
    "print(\"C-stat: \", roc)"
   ]
  },
  {
   "cell_type": "code",
   "execution_count": 38,
   "metadata": {
    "collapsed": true
   },
   "outputs": [
    {
     "name": "stdout",
     "output_type": "stream",
     "text": [
      "[  7.96394679e-02   9.65725688e-01   3.89075256e-01   9.71807121e-01\n   3.58563624e-02   2.35808131e-01   2.35452780e-01   4.63306100e-01\n   5.15372726e-01   9.89183935e-01   6.73374595e-01   7.87007309e-01\n   2.09345629e-01   8.25391905e-02   7.80659718e-01   8.46564543e-01\n   2.83673119e-01   5.44148585e-02   7.02540971e-01   6.64563667e-01\n   7.30017227e-02   1.25814493e-01   6.44155963e-01   3.25703969e-01\n   3.99416962e-01   3.06070507e-02   4.66087198e-02   3.19830856e-01\n   8.18624692e-01   4.41684052e-03   2.34746906e-01   9.51827837e-01\n   7.11401093e-01   1.80160530e-01   2.11621086e-01   3.31266466e-01\n   2.63029454e-03   6.13059011e-02   4.28433127e-01   5.00740234e-01\n   3.01756385e-01   9.57963512e-01   1.66342604e-01   9.13994445e-01\n   7.12091675e-01   2.17582652e-02   1.71343263e-01   7.06938980e-01\n   4.13629070e-01   4.32218424e-01   9.69433624e-02   2.01332615e-01\n   9.98084509e-01   9.09924883e-01   2.57223812e-01   2.32981490e-01\n   8.98378755e-01   2.51698353e-01   9.00020579e-01   3.81795494e-02\n   3.25371968e-01   9.99689634e-01   2.39757031e-01   2.22157517e-01\n   2.25371269e-01   2.94987366e-01   9.53380444e-01   3.41546341e-01\n   4.01655437e-01   1.60004591e-01   2.60998728e-01   1.17067142e-01\n   1.72694688e-01   3.43545349e-01   5.36891968e-01   2.14209608e-01\n   3.59215541e-03   2.53863076e-02   8.48424680e-01   4.62926467e-01\n   1.64600167e-02   9.25918704e-02   7.31653967e-01   2.33659475e-01\n   8.99614112e-01   5.37340230e-01   1.10158066e-01   2.59059484e-02\n   8.41509608e-01   2.79083318e-02   9.57739262e-02   5.43569800e-02\n   4.26572964e-01   3.86540271e-02   8.09101483e-03   2.20003594e-02\n   3.12258056e-01   3.46424161e-01   9.92319271e-01   8.03194634e-02\n   6.11916955e-01   5.12446872e-03   4.89162296e-01   6.96861842e-02\n   2.50005773e-01   4.81602237e-02   6.70079780e-01   4.13145218e-02\n   3.72527575e-02   2.63455375e-01   1.56451896e-01   5.42017783e-01\n   2.52636956e-02   2.51679657e-01   4.70762634e-01   1.57455292e-01\n   7.37473365e-02   5.72992532e-02   5.29434147e-01   1.81701847e-01\n   6.40307036e-02   2.44342467e-02   2.24431296e-01   9.67717871e-01\n   1.92280213e-01   3.42842659e-01   1.29500269e-01   3.20353150e-02\n   6.72029921e-01   7.65763930e-02   9.08290697e-02   1.15603714e-01\n   3.81286830e-01   9.18889909e-01   1.13226446e-02   3.44137139e-01\n   9.81257686e-01   4.89768403e-01   1.22336842e-01   5.98053671e-01\n   6.32469370e-01   6.09265780e-01   5.12948430e-01   1.58231436e-01\n   9.80021477e-02   9.73423368e-02   1.75586382e-01   1.64018766e-01\n   3.69657409e-01   2.03493432e-01   7.10490860e-02   9.39358470e-01\n   1.44793498e-01   2.04615405e-02   1.42657820e-02   3.33352119e-01\n   7.53511181e-01   8.55249214e-02   2.77941537e-01   1.33104750e-01\n   1.21793266e-01   8.81748646e-01   2.80437151e-01   9.54115037e-02\n   3.83435781e-01   3.86365263e-01   9.98476454e-01   1.01455674e-01\n   2.65325304e-01   5.91551660e-01   1.45580074e-01   1.23222708e-01\n   6.53326777e-01   1.54655276e-01   4.43164469e-01   1.17696689e-01\n   1.00093075e-01   9.99100112e-01   2.43686483e-01   3.02534286e-02\n   1.28897809e-01   3.56999025e-01   9.10279041e-02   8.31750815e-01\n   3.90921624e-01   2.61344091e-01   6.90025339e-01   2.35758723e-01\n   8.58418983e-02   3.65688807e-02   9.66939239e-01   1.26315806e-01\n   4.88624977e-01   8.78941285e-01   8.80826964e-01   9.35945478e-01\n   1.27788524e-01   1.50483873e-01   7.06048874e-01   9.89236040e-01\n   2.10256966e-01   1.19389059e-01   1.72319538e-02   4.25527255e-02\n   1.93689405e-01   7.95370678e-01   1.79510696e-01   2.06742978e-01\n   7.28061724e-01   3.30148599e-01   2.55701774e-01   9.71264691e-01\n   2.09137846e-02   2.49835625e-01   1.47615733e-01   1.00000000e+00\n   3.98914989e-01   1.61390571e-01   1.00000000e+00   2.22836306e-01\n   2.17343592e-01   1.27388233e-01   1.37451809e-01   3.25626464e-03\n   1.78361104e-01   9.21013033e-03   1.36755633e-02   4.93161476e-02\n   8.54895778e-02   5.64431394e-02   9.79716157e-01   3.21510174e-01\n   6.18573712e-02   3.92081394e-02   2.66615517e-02   6.81479106e-01\n   9.05583645e-02   9.64643970e-01   1.59543750e-01   7.50929934e-02\n   3.33892431e-01   7.23960536e-01   2.29958224e-01   1.39757126e-01\n   2.18990610e-02   3.33708402e-01   7.02898231e-01   8.46411294e-01\n   4.60679276e-01   1.70851531e-02   1.37054650e-02   4.00431670e-01\n   2.57548391e-01   4.14786140e-02   5.06428411e-01   3.21413263e-01\n   9.98761993e-01   1.00000000e+00   9.90358408e-01   8.00673395e-01\n   1.36518688e-01   1.13076818e-01   3.89634705e-01   9.50432189e-02\n   7.95111613e-01   3.90505579e-02   1.47485451e-02   9.61431867e-02\n   8.61447523e-01   9.64547070e-01   3.24963245e-01   1.61266446e-01\n   8.85341288e-01   5.72813334e-01   7.05075772e-01   9.56158024e-01\n   4.59249496e-01   5.03829948e-02   8.33725953e-02   4.32044642e-01\n   8.22857761e-02   1.18488355e-01   1.39773218e-01   1.69113434e-01\n   3.86283885e-01   1.18503206e-01   1.18943970e-01   6.57851089e-03\n   1.03315857e-02   7.04978909e-01   9.52598708e-01   9.99270924e-01\n   4.43448780e-01   3.69137106e-01   9.09583690e-03   2.22130594e-01\n   2.69769185e-01   8.80138189e-01   4.78894147e-01   9.81421326e-01\n   7.08497258e-01   1.11971902e-02   1.41632815e-01   9.83105882e-01\n   2.41706659e-02   7.44237923e-01   9.98343872e-01   9.45142445e-01\n   2.99500116e-01   9.98533333e-01   9.39026945e-01   9.47296993e-01\n   9.23466818e-01   4.51955574e-02   8.02260009e-02   4.61480506e-01\n   7.98116988e-01   1.48955369e-02   9.00313636e-01   9.97683089e-01\n   1.72629161e-02   1.23142867e-01   9.80798398e-01   9.65653449e-01\n   1.30165293e-01   9.63447719e-01   4.12993773e-02   9.52737346e-01\n   4.45620558e-01   9.93541969e-01   5.03094373e-01   2.73771094e-01\n   3.53389047e-01   8.56043254e-02   9.97123541e-01   3.80579195e-03\n   3.43052919e-01   9.96360483e-01   6.73229508e-02   2.09102912e-01\n   8.83805289e-01   8.37548153e-01   7.99791285e-02   1.10577564e-02\n   7.22956396e-02   8.01452850e-01   7.74671596e-01   6.58141063e-01\n   8.65385022e-01   1.73675112e-01   1.23249501e-02   5.19429815e-01\n   3.39368587e-01   2.28037206e-02   4.21067581e-02   2.16259507e-01\n   9.99373434e-01   9.95146279e-01   8.37809158e-01   8.12993101e-01\n   5.24980350e-02   2.12008135e-01   3.38668266e-01   1.19591215e-03\n   1.68459644e-01   2.75610651e-02   9.53935250e-01   6.64868089e-01\n   6.99664283e-01   9.92927394e-01   6.64070521e-01   1.24912422e-01\n   3.82147477e-01   2.63639473e-01   6.03924779e-01   1.00000000e+00\n   7.09059726e-01   4.73181636e-01   3.41723535e-01   1.03377145e-01\n   9.87064952e-01   8.09976061e-01   4.39548440e-01   9.99050257e-01\n   3.14638423e-03   1.69407430e-01   3.57731921e-01   9.51103410e-01\n   2.20842517e-02   9.17609936e-01   5.02822416e-01   1.93608615e-02\n   2.11837526e-01   9.99665775e-01   5.81046629e-01   1.79329040e-01\n   5.87344200e-01   5.53649724e-02   2.42289250e-02   9.65284578e-01\n   1.11134581e-01   5.67555240e-02   2.33455054e-01   3.32405533e-02\n   3.70033980e-01   2.62233381e-02   3.37395593e-02   8.62868311e-01\n   1.72366595e-01   6.02424543e-02   5.17408590e-03   4.42953941e-02\n   9.84127634e-01   4.14412223e-02   2.27172594e-01   2.83446324e-01\n   9.99231824e-01   8.98613266e-01   2.38261039e-01   2.31484414e-01\n   1.65873660e-01   1.09976480e-01   1.08766151e-01   4.95592851e-01\n   3.08075790e-02   1.11557543e-02   8.87086914e-01   9.60436184e-01\n   1.27757889e-01   2.56902894e-01   4.23610751e-01   6.60343153e-01\n   8.33598622e-01   8.48316760e-02   5.31966596e-01   9.81741821e-01\n   1.26231865e-01   7.62421883e-01   1.95920262e-01   2.85402148e-01\n   8.76423636e-01   5.91408884e-02   3.25376133e-01   9.52784258e-01\n   4.75082937e-03   5.90292138e-01   9.50003591e-01   3.49153834e-01\n   8.16737230e-01   2.03353863e-01   5.20845724e-02   2.33269958e-02\n   5.55560928e-01   3.61451517e-01   2.17929193e-02   9.44060063e-02\n   3.95292846e-01   1.00000000e+00   7.50221291e-01   1.30987521e-01\n   4.99801375e-01   3.54359913e-02   2.78846630e-01   1.02113657e-01\n   2.06436250e-02   1.50094580e-03   3.40587670e-02   2.88733113e-01\n   2.24959987e-02   8.16958829e-01   1.60157725e-02   6.27851302e-02\n   9.75092541e-01   8.89158877e-01   3.52070172e-01   2.90057091e-01\n   3.06502690e-02   1.60368001e-01   2.59290341e-02   7.67361805e-01\n   8.57231711e-02   4.63693619e-02   1.30791121e-01   1.18552971e-01\n   4.88788019e-01   5.70138486e-02   9.80679348e-01   3.24501567e-01\n   7.04176308e-02   4.51693653e-01   2.83641408e-02   4.93766787e-02\n   3.93981159e-01   1.05959109e-01   5.55906297e-02   3.10127078e-01\n   9.90640838e-01   7.37630745e-02   9.76055747e-01   2.45653734e-01\n   9.83393889e-02   8.37184286e-01   8.17631283e-01   4.29153282e-01\n   9.92390980e-01   5.93616555e-01   9.65106774e-01   3.19103575e-01\n   6.82605541e-02   3.43736166e-01   1.05875418e-01   2.15331842e-02\n   7.93873235e-01   9.92108396e-01   1.04110538e-01   2.88963608e-01\n   9.61493672e-01   1.80900878e-01   9.15222620e-01   2.35678542e-01\n   1.00000000e+00   4.91791513e-03   4.48725828e-02   9.90555215e-01\n   1.12015096e-01   4.30701483e-02   7.57010998e-01   2.71638926e-01\n   3.21044262e-01   4.02018803e-02   8.70299543e-01   1.16986610e-01\n   3.38953989e-01   6.44000876e-01   3.51823525e-01   9.59223184e-01\n   4.46872112e-01   9.99204075e-01   8.84431182e-02   1.00000000e+00\n   1.00000000e+00   6.04715880e-02   6.25455629e-02   6.42625249e-02\n   5.03177091e-01   1.79606241e-01   9.12090609e-01   1.24891482e-01\n   2.58692022e-02   3.73331799e-01   2.35639224e-01   1.42201494e-01\n   1.35698490e-01   1.19382416e-01   5.03017409e-01   2.73869285e-01\n   9.70823677e-01   1.85388687e-01   9.97513228e-01   4.82583521e-01\n   1.29490807e-01   1.06012530e-01   5.22609079e-02   2.45185138e-02\n   2.79719127e-01   4.73733081e-02   8.05121758e-02   5.77380182e-01\n   1.18190739e-01   8.40164205e-02   1.13158909e-02   9.40286702e-01\n   8.05568614e-01   7.09624456e-01   4.03581966e-01   7.21829057e-02\n   9.63513396e-01   9.98346388e-01   3.42696334e-01   2.59970078e-01\n   9.42998518e-01   9.75169328e-01   5.41515583e-03   6.24167968e-01\n   2.48495838e-01   9.97383041e-01   2.48934362e-02   1.35010401e-01\n   3.70814448e-02   2.28232623e-02   3.06017469e-03   9.90786299e-01\n   1.38610219e-02   7.99746678e-01   2.89281237e-02   1.41204441e-02\n   9.97750758e-01   2.17376497e-02   3.90030019e-02   5.46622818e-01\n   9.06706520e-01   4.03132804e-03   1.78958315e-01   2.44970229e-01\n   2.64064626e-01   2.51332942e-02   5.36581606e-02   2.06966303e-01\n   9.98997135e-01   8.82116472e-01   1.58318741e-01   2.84218123e-02\n   7.25492236e-01   1.30434441e-01   3.66816197e-02   9.77952156e-01\n   1.82991601e-02   8.20651321e-01   9.14132981e-01   5.41014206e-02\n   3.67394570e-01   3.82909687e-01   3.11085625e-01   5.88706988e-02\n   2.10179473e-02   1.73224435e-01   9.24658956e-02   1.00000000e+00\n   3.36017531e-02   2.32857396e-02   1.08990811e-01   3.35204107e-03\n   5.93785626e-01   1.43315672e-01   4.08865225e-02   9.51473166e-01\n   4.26606221e-01   2.59807428e-01   1.83920162e-01   2.30960824e-02\n   5.11058460e-02   9.93380537e-01   1.62423352e-01   4.41066016e-01\n   8.07567563e-01   4.98134065e-01   8.00277672e-02   1.03222989e-01\n   2.47538080e-02   6.32443246e-01   4.29631397e-03   9.80742982e-01\n   3.03507009e-02   8.14320116e-01   8.72968810e-01   8.20125681e-02\n   4.83434612e-03   8.89261363e-01   9.36819172e-04   3.08847599e-01\n   8.08649981e-02   2.24579528e-02   4.03021955e-01   4.07457083e-03\n   8.25610693e-02   2.35096651e-01   7.08753656e-03   2.29981211e-01\n   1.82618480e-01   9.52160642e-01   9.79997999e-01   5.92791995e-01\n   2.00461864e-01   1.31645900e-01   3.63851753e-02   1.04784158e-01\n   2.74757008e-02   2.52466149e-01   1.49029620e-01   4.15389220e-01\n   7.31247208e-01   4.54255504e-01   4.00332108e-02   1.40978753e-02\n   4.80569344e-02   1.92938236e-01   1.98971992e-02   1.37806161e-01\n   1.50242545e-01   9.39850592e-01   3.72321920e-01   6.76921927e-01\n   4.52921112e-01   2.86908832e-01   2.72523171e-01   2.94902267e-02\n   2.45901415e-01   7.25674527e-01   5.77720049e-01   8.63792535e-02\n   8.77772704e-01   8.11447282e-01   4.10800080e-01   2.17801474e-01\n   1.34681916e-01   3.37000255e-02   8.22443636e-01   4.97480340e-01\n   9.16907890e-01   3.17842090e-01   9.32303148e-01   6.00943363e-01\n   2.25675080e-01   3.31815827e-01   8.60759788e-02   1.76902906e-01\n   9.37705706e-01   8.29839098e-01   1.41500677e-01   1.28692614e-01\n   9.33531850e-01   9.17120990e-02   1.18415261e-01   9.09522902e-02\n   5.21464908e-01   5.50709111e-02   8.87269357e-01   7.31862653e-01\n   5.69999742e-02   4.84713270e-01   9.81729998e-01   6.94317135e-01\n   4.51667985e-02   2.31543285e-03   2.82345931e-03   3.72315107e-02\n   1.57780878e-01   4.42984914e-01   5.28313320e-03   5.35139870e-03\n   4.51284319e-01   4.23023264e-01   9.44633517e-01   1.82366325e-02\n   2.05316657e-01   2.63391136e-01   6.53246652e-02   9.66204556e-01\n   6.52486026e-01   1.65789709e-01   8.60929261e-01   7.72427887e-01\n   9.72558127e-02   4.68156960e-03   9.79077579e-01   9.30047431e-01\n   3.14087393e-01   8.84128827e-02   3.36540350e-02   1.00000000e+00\n   9.04300600e-02   1.52928959e-02   1.39401881e-01   9.99516908e-01\n   1.33017271e-01   9.90432577e-01   7.16009694e-02   7.64347970e-01\n   1.62819740e-01   2.86298037e-01   5.03280611e-02   1.15377303e-01\n   9.11205971e-01   4.41715656e-02   8.40152114e-01   8.09232825e-02\n   1.73305785e-01   7.71555890e-01   2.23463939e-02   9.80402734e-01\n   7.52318759e-01   9.97102945e-01   7.31231032e-01   8.10537900e-02\n   3.00826838e-01   1.65395422e-01   6.62586327e-01   8.79029224e-02\n   8.73470567e-01   4.15876784e-01   1.25693996e-01   8.89537027e-02\n   1.48302842e-01   2.37266171e-01   3.06080164e-02   1.09461970e-01\n   8.82043081e-01   1.78098756e-01   9.78166937e-02   2.85711645e-01\n   1.09785895e-01   9.70456980e-01   6.05268595e-01   8.72586341e-01\n   1.67262892e-01   2.38359829e-01   1.19642003e-01   7.68777008e-01\n   9.07703817e-02   9.99184783e-01   2.81032340e-02   2.86812640e-02\n   5.16414732e-02   1.74135192e-01   8.71902954e-02   1.25313553e-01\n   5.82107501e-01   1.57585063e-01   4.34493667e-02   1.31700788e-01\n   9.91572614e-01   4.86747113e-02   1.61748596e-01   6.04089977e-01\n   2.62447245e-01   4.21981259e-02   6.42184244e-01   8.09587305e-01\n   2.75839207e-02   9.58283544e-01   2.70512797e-01   9.34628713e-01\n   1.16945819e-01   2.88581201e-02   2.07232054e-01   9.98493151e-01\n   3.65528823e-02   2.34583941e-02   5.42862976e-01   3.58525674e-01\n   2.53880836e-01   1.67979381e-01   9.98811646e-01   1.17712060e-02\n   8.68447909e-02   3.34729786e-02   1.29638920e-01   9.71679614e-02\n   1.33103533e-01   9.68359652e-01   1.44129812e-01   1.31672067e-01\n   6.68665154e-01   9.93944404e-01   9.73021341e-01   2.66882659e-01\n   9.23314777e-01   4.12867284e-01   6.12410664e-01   1.20986509e-01\n   3.32206391e-02   4.93528351e-02   8.73900177e-01   1.51035939e-01\n   5.04508896e-03   7.81962673e-01   7.65605066e-01   2.90144071e-01\n   3.27391087e-01   6.46388767e-01   3.82026670e-02   9.95128546e-01\n   1.99867627e-01   1.19947234e-01   9.20886890e-01   7.92406678e-01\n   4.70516670e-02   7.81840301e-02   3.72715683e-03   9.51901051e-01\n   8.17442073e-01   5.59018948e-02   4.01148575e-01   9.62426419e-02\n   2.82916177e-01   3.64502402e-01   1.15744221e-01   9.99281609e-01\n   3.96236598e-01   6.10249707e-01   1.70975467e-01]\n"
     ]
    },
    {
     "data": {
      "text/plain": [
       "891"
      ]
     },
     "execution_count": 38,
     "metadata": {},
     "output_type": "execute_result"
    }
   ],
   "source": [
    "from sklearn.metrics import accuracy_score\n",
    "#accuracy_score(y, model.)\n",
    "print(model.oob_prediction_)\n",
    "len(model.oob_prediction_)"
   ]
  },
  {
   "cell_type": "code",
   "execution_count": 72,
   "metadata": {},
   "outputs": [],
   "source": [
    "# lrearning, prediction and printing results\n",
    "from sklearn.model_selection import cross_val_score\n",
    "\n",
    "\n",
    "def predict_model(X, Y, model, Xtest, submit_name):\n",
    "    model.fit(X, Y)\n",
    "    Y_pred  = model.predict(Xtest)\n",
    "    #score   = cross_val_score(model, X, Y, cv=cv)\n",
    "\n",
    "    submission = pd.DataFrame({\n",
    "        \"PassengerId\": test_df[\"PassengerId\"],\n",
    "        \"Survived\": Y_pred\n",
    "    })\n",
    "    submission.to_csv(submit_name, index=False)\n",
    "\n",
    "    #return score"
   ]
  },
  {
   "cell_type": "code",
   "execution_count": 73,
   "metadata": {},
   "outputs": [
    {
     "ename": "ValueError",
     "evalue": "could not convert string to float: 'C'",
     "traceback": [
      "\u001b[1;31m---------------------------------------------------------------------------\u001b[0m",
      "\u001b[1;31mValueError\u001b[0m                                Traceback (most recent call last)",
      "\u001b[1;32m<ipython-input-73-0f262d568903>\u001b[0m in \u001b[0;36m<module>\u001b[1;34m()\u001b[0m\n\u001b[1;32m----> 1\u001b[1;33m \u001b[0mpredict_model\u001b[0m\u001b[1;33m(\u001b[0m\u001b[0mX\u001b[0m\u001b[1;33m,\u001b[0m \u001b[0my\u001b[0m\u001b[1;33m,\u001b[0m \u001b[0mmodel\u001b[0m\u001b[1;33m,\u001b[0m \u001b[0mX_test\u001b[0m\u001b[1;33m,\u001b[0m \u001b[1;34m\"test\"\u001b[0m\u001b[1;33m)\u001b[0m\u001b[1;33m\u001b[0m\u001b[0m\n\u001b[0m",
      "\u001b[1;32m<ipython-input-72-d957402f1c34>\u001b[0m in \u001b[0;36mpredict_model\u001b[1;34m(X, Y, model, Xtest, submit_name)\u001b[0m\n\u001b[0;32m      5\u001b[0m \u001b[1;32mdef\u001b[0m \u001b[0mpredict_model\u001b[0m\u001b[1;33m(\u001b[0m\u001b[0mX\u001b[0m\u001b[1;33m,\u001b[0m \u001b[0mY\u001b[0m\u001b[1;33m,\u001b[0m \u001b[0mmodel\u001b[0m\u001b[1;33m,\u001b[0m \u001b[0mXtest\u001b[0m\u001b[1;33m,\u001b[0m \u001b[0msubmit_name\u001b[0m\u001b[1;33m)\u001b[0m\u001b[1;33m:\u001b[0m\u001b[1;33m\u001b[0m\u001b[0m\n\u001b[0;32m      6\u001b[0m     \u001b[0mmodel\u001b[0m\u001b[1;33m.\u001b[0m\u001b[0mfit\u001b[0m\u001b[1;33m(\u001b[0m\u001b[0mX\u001b[0m\u001b[1;33m,\u001b[0m \u001b[0mY\u001b[0m\u001b[1;33m)\u001b[0m\u001b[1;33m\u001b[0m\u001b[0m\n\u001b[1;32m----> 7\u001b[1;33m     \u001b[0mY_pred\u001b[0m  \u001b[1;33m=\u001b[0m \u001b[0mmodel\u001b[0m\u001b[1;33m.\u001b[0m\u001b[0mpredict\u001b[0m\u001b[1;33m(\u001b[0m\u001b[0mXtest\u001b[0m\u001b[1;33m)\u001b[0m\u001b[1;33m\u001b[0m\u001b[0m\n\u001b[0m\u001b[0;32m      8\u001b[0m     \u001b[1;31m#score   = cross_val_score(model, X, Y, cv=cv)\u001b[0m\u001b[1;33m\u001b[0m\u001b[1;33m\u001b[0m\u001b[0m\n\u001b[0;32m      9\u001b[0m \u001b[1;33m\u001b[0m\u001b[0m\n",
      "\u001b[1;32mG:\\Users\\Av\\Miniconda3\\lib\\site-packages\\sklearn\\ensemble\\forest.py\u001b[0m in \u001b[0;36mpredict\u001b[1;34m(self, X)\u001b[0m\n\u001b[0;32m    683\u001b[0m         \"\"\"\n\u001b[0;32m    684\u001b[0m         \u001b[1;31m# Check data\u001b[0m\u001b[1;33m\u001b[0m\u001b[1;33m\u001b[0m\u001b[0m\n\u001b[1;32m--> 685\u001b[1;33m         \u001b[0mX\u001b[0m \u001b[1;33m=\u001b[0m \u001b[0mself\u001b[0m\u001b[1;33m.\u001b[0m\u001b[0m_validate_X_predict\u001b[0m\u001b[1;33m(\u001b[0m\u001b[0mX\u001b[0m\u001b[1;33m)\u001b[0m\u001b[1;33m\u001b[0m\u001b[0m\n\u001b[0m\u001b[0;32m    686\u001b[0m \u001b[1;33m\u001b[0m\u001b[0m\n\u001b[0;32m    687\u001b[0m         \u001b[1;31m# Assign chunk of trees to jobs\u001b[0m\u001b[1;33m\u001b[0m\u001b[1;33m\u001b[0m\u001b[0m\n",
      "\u001b[1;32mG:\\Users\\Av\\Miniconda3\\lib\\site-packages\\sklearn\\ensemble\\forest.py\u001b[0m in \u001b[0;36m_validate_X_predict\u001b[1;34m(self, X)\u001b[0m\n\u001b[0;32m    353\u001b[0m                                  \"call `fit` before exploiting the model.\")\n\u001b[0;32m    354\u001b[0m \u001b[1;33m\u001b[0m\u001b[0m\n\u001b[1;32m--> 355\u001b[1;33m         \u001b[1;32mreturn\u001b[0m \u001b[0mself\u001b[0m\u001b[1;33m.\u001b[0m\u001b[0mestimators_\u001b[0m\u001b[1;33m[\u001b[0m\u001b[1;36m0\u001b[0m\u001b[1;33m]\u001b[0m\u001b[1;33m.\u001b[0m\u001b[0m_validate_X_predict\u001b[0m\u001b[1;33m(\u001b[0m\u001b[0mX\u001b[0m\u001b[1;33m,\u001b[0m \u001b[0mcheck_input\u001b[0m\u001b[1;33m=\u001b[0m\u001b[1;32mTrue\u001b[0m\u001b[1;33m)\u001b[0m\u001b[1;33m\u001b[0m\u001b[0m\n\u001b[0m\u001b[0;32m    356\u001b[0m \u001b[1;33m\u001b[0m\u001b[0m\n\u001b[0;32m    357\u001b[0m     \u001b[1;33m@\u001b[0m\u001b[0mproperty\u001b[0m\u001b[1;33m\u001b[0m\u001b[0m\n",
      "\u001b[1;32mG:\\Users\\Av\\Miniconda3\\lib\\site-packages\\sklearn\\tree\\tree.py\u001b[0m in \u001b[0;36m_validate_X_predict\u001b[1;34m(self, X, check_input)\u001b[0m\n\u001b[0;32m    363\u001b[0m \u001b[1;33m\u001b[0m\u001b[0m\n\u001b[0;32m    364\u001b[0m         \u001b[1;32mif\u001b[0m \u001b[0mcheck_input\u001b[0m\u001b[1;33m:\u001b[0m\u001b[1;33m\u001b[0m\u001b[0m\n\u001b[1;32m--> 365\u001b[1;33m             \u001b[0mX\u001b[0m \u001b[1;33m=\u001b[0m \u001b[0mcheck_array\u001b[0m\u001b[1;33m(\u001b[0m\u001b[0mX\u001b[0m\u001b[1;33m,\u001b[0m \u001b[0mdtype\u001b[0m\u001b[1;33m=\u001b[0m\u001b[0mDTYPE\u001b[0m\u001b[1;33m,\u001b[0m \u001b[0maccept_sparse\u001b[0m\u001b[1;33m=\u001b[0m\u001b[1;34m\"csr\"\u001b[0m\u001b[1;33m)\u001b[0m\u001b[1;33m\u001b[0m\u001b[0m\n\u001b[0m\u001b[0;32m    366\u001b[0m             if issparse(X) and (X.indices.dtype != np.intc or\n\u001b[0;32m    367\u001b[0m                                 X.indptr.dtype != np.intc):\n",
      "\u001b[1;32mG:\\Users\\Av\\Miniconda3\\lib\\site-packages\\sklearn\\utils\\validation.py\u001b[0m in \u001b[0;36mcheck_array\u001b[1;34m(array, accept_sparse, dtype, order, copy, force_all_finite, ensure_2d, allow_nd, ensure_min_samples, ensure_min_features, warn_on_dtype, estimator)\u001b[0m\n\u001b[0;32m    380\u001b[0m                                       force_all_finite)\n\u001b[0;32m    381\u001b[0m     \u001b[1;32melse\u001b[0m\u001b[1;33m:\u001b[0m\u001b[1;33m\u001b[0m\u001b[0m\n\u001b[1;32m--> 382\u001b[1;33m         \u001b[0marray\u001b[0m \u001b[1;33m=\u001b[0m \u001b[0mnp\u001b[0m\u001b[1;33m.\u001b[0m\u001b[0marray\u001b[0m\u001b[1;33m(\u001b[0m\u001b[0marray\u001b[0m\u001b[1;33m,\u001b[0m \u001b[0mdtype\u001b[0m\u001b[1;33m=\u001b[0m\u001b[0mdtype\u001b[0m\u001b[1;33m,\u001b[0m \u001b[0morder\u001b[0m\u001b[1;33m=\u001b[0m\u001b[0morder\u001b[0m\u001b[1;33m,\u001b[0m \u001b[0mcopy\u001b[0m\u001b[1;33m=\u001b[0m\u001b[0mcopy\u001b[0m\u001b[1;33m)\u001b[0m\u001b[1;33m\u001b[0m\u001b[0m\n\u001b[0m\u001b[0;32m    383\u001b[0m \u001b[1;33m\u001b[0m\u001b[0m\n\u001b[0;32m    384\u001b[0m         \u001b[1;32mif\u001b[0m \u001b[0mensure_2d\u001b[0m\u001b[1;33m:\u001b[0m\u001b[1;33m\u001b[0m\u001b[0m\n",
      "\u001b[1;31mValueError\u001b[0m: could not convert string to float: 'C'"
     ],
     "output_type": "error"
    }
   ],
   "source": [
    "predict_model(X, y, model, X_test, \"test\")"
   ]
  },
  {
   "cell_type": "code",
   "execution_count": null,
   "metadata": {},
   "outputs": [],
   "source": [
    ""
   ]
  }
 ],
 "metadata": {
  "kernelspec": {
   "display_name": "Python 2",
   "language": "python",
   "name": "python2"
  },
  "language_info": {
   "codemirror_mode": {
    "name": "ipython",
    "version": 2
   },
   "file_extension": ".py",
   "mimetype": "text/x-python",
   "name": "python",
   "nbconvert_exporter": "python",
   "pygments_lexer": "ipython2",
   "version": "2.7.6"
  }
 },
 "nbformat": 4,
 "nbformat_minor": 0
}
