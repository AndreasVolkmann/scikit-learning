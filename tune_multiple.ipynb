{
 "cells": [
  {
   "cell_type": "code",
   "execution_count": 2,
   "metadata": {
    "collapsed": true
   },
   "outputs": [],
   "source": [
    "from sklearn.datasets import load_iris\n",
    "from sklearn.neighbors import KNeighborsClassifier\n",
    "from sklearn.model_selection import cross_val_score\n",
    "import matplotlib.pyplot as plt\n",
    "%matplotlib inline"
   ]
  },
  {
   "cell_type": "code",
   "execution_count": 4,
   "metadata": {},
   "outputs": [],
   "source": [
    "# read in the iris data\n",
    "iris = load_iris()\n",
    "\n",
    "# create X (features) and y (response)\n",
    "X = iris.data\n",
    "y = iris.target"
   ]
  },
  {
   "cell_type": "code",
   "execution_count": 6,
   "metadata": {},
   "outputs": [],
   "source": [
    "from sklearn.model_selection import GridSearchCV"
   ]
  },
  {
   "cell_type": "code",
   "execution_count": 7,
   "metadata": {},
   "outputs": [],
   "source": [
    "# define the parameter values that should be searched\n",
    "k_range = range(1, 31)\n",
    "weight_options = [\"uniform\", \"distance\"]\n",
    "# create parameter grid\n",
    "param_grid = dict(n_neighbors=k_range, weights=weight_options)"
   ]
  },
  {
   "cell_type": "code",
   "execution_count": 8,
   "metadata": {},
   "outputs": [
    {
     "data": {
      "text/plain": [
       "GridSearchCV(cv=10, error_score='raise',\n       estimator=KNeighborsClassifier(algorithm='auto', leaf_size=30, metric='minkowski',\n           metric_params=None, n_jobs=1, n_neighbors=5, p=2,\n           weights='uniform'),\n       fit_params={}, iid=True, n_jobs=1,\n       param_grid={'n_neighbors': range(1, 31), 'weights': ['uniform', 'distance']},\n       pre_dispatch='2*n_jobs', refit=True, return_train_score=True,\n       scoring='accuracy', verbose=0)"
      ]
     },
     "execution_count": 8,
     "metadata": {},
     "output_type": "execute_result"
    }
   ],
   "source": [
    "# instantiate and fit the grid\n",
    "knn = KNeighborsClassifier()\n",
    "grid = GridSearchCV(knn, param_grid, cv=10, scoring=\"accuracy\")\n",
    "grid.fit(X, y)"
   ]
  },
  {
   "cell_type": "code",
   "execution_count": 9,
   "metadata": {},
   "outputs": [
    {
     "name": "stdout",
     "output_type": "stream",
     "text": [
      "0.98\n{'n_neighbors': 13, 'weights': 'uniform'}\n"
     ]
    }
   ],
   "source": [
    "# examine the best model\n",
    "print(grid.best_score_)\n",
    "print(grid.best_params_)"
   ]
  },
  {
   "cell_type": "code",
   "execution_count": 13,
   "metadata": {
    "collapsed": false
   },
   "outputs": [
    {
     "data": {
      "text/plain": [
       "array([1])"
      ]
     },
     "execution_count": 13,
     "metadata": {},
     "output_type": "execute_result"
    }
   ],
   "source": [
    "import numpy as np\n",
    "\n",
    "knn = KNeighborsClassifier(n_neighbors=13, weights=\"uniform\")\n",
    "knn.fit(X, y)\n",
    "to_predict = np.array([3, 5, 4, 2]).reshape(1, -1)\n",
    "knn.predict(to_predict)"
   ]
  },
  {
   "cell_type": "code",
   "execution_count": 16,
   "metadata": {},
   "outputs": [
    {
     "data": {
      "text/plain": [
       "array([1])"
      ]
     },
     "execution_count": 16,
     "metadata": {},
     "output_type": "execute_result"
    }
   ],
   "source": [
    "# grid can be used to predict with best model\n",
    "grid.predict(to_predict)"
   ]
  },
  {
   "cell_type": "code",
   "execution_count": 19,
   "metadata": {},
   "outputs": [],
   "source": [
    "from sklearn.model_selection import RandomizedSearchCV"
   ]
  },
  {
   "cell_type": "code",
   "execution_count": 20,
   "metadata": {},
   "outputs": [],
   "source": [
    "# specify parameter distributions\n",
    "param_dist = dict(n_neighbors=k_range, weights=weight_options)"
   ]
  },
  {
   "cell_type": "code",
   "execution_count": 24,
   "metadata": {},
   "outputs": [
    {
     "data": {
      "text/plain": [
       "{'mean_fit_time': array([ 0.00166438,  0.00050049,  0.00020061,  0.0006026 ,  0.        ,\n         0.00010095,  0.0003516 ,  0.00045052,  0.00020652,  0.        ]),\n 'mean_score_time': array([ 0.00012832,  0.00075383,  0.00069988,  0.00010016,  0.        ,\n         0.0021908 ,  0.00070074,  0.00035028,  0.00019896,  0.        ]),\n 'mean_test_score': array([ 0.97333333,  0.98      ,  0.96      ,  0.97333333,  0.96      ,\n         0.96666667,  0.97333333,  0.96666667,  0.98      ,  0.96      ]),\n 'mean_train_score': array([ 0.97777778,  1.        ,  1.        ,  0.97925926,  0.96      ,\n         1.        ,  0.97777778,  0.97111111,  0.97777778,  0.97037037]),\n 'param_n_neighbors': masked_array(data = [19 27 1 15 26 4 17 22 18 24],\n              mask = [False False False False False False False False False False],\n        fill_value = ?),\n 'param_weights': masked_array(data = ['uniform' 'distance' 'distance' 'uniform' 'uniform' 'distance' 'uniform'\n  'uniform' 'uniform' 'uniform'],\n              mask = [False False False False False False False False False False],\n        fill_value = ?),\n 'params': ({'n_neighbors': 19, 'weights': 'uniform'},\n  {'n_neighbors': 27, 'weights': 'distance'},\n  {'n_neighbors': 1, 'weights': 'distance'},\n  {'n_neighbors': 15, 'weights': 'uniform'},\n  {'n_neighbors': 26, 'weights': 'uniform'},\n  {'n_neighbors': 4, 'weights': 'distance'},\n  {'n_neighbors': 17, 'weights': 'uniform'},\n  {'n_neighbors': 22, 'weights': 'uniform'},\n  {'n_neighbors': 18, 'weights': 'uniform'},\n  {'n_neighbors': 24, 'weights': 'uniform'}),\n 'rank_test_score': array([3, 1, 8, 3, 8, 6, 3, 6, 1, 8]),\n 'split0_test_score': array([ 0.93333333,  1.        ,  1.        ,  0.93333333,  0.93333333,\n         1.        ,  0.93333333,  0.93333333,  1.        ,  0.93333333]),\n 'split0_train_score': array([ 0.97777778,  1.        ,  1.        ,  0.97777778,  0.96296296,\n         1.        ,  0.97777778,  0.97777778,  0.97777778,  0.97037037]),\n 'split1_test_score': array([ 0.93333333,  0.93333333,  0.93333333,  0.93333333,  0.93333333,\n         0.93333333,  0.93333333,  0.93333333,  0.93333333,  0.93333333]),\n 'split1_train_score': array([ 0.98518519,  1.        ,  1.        ,  0.97777778,  0.98518519,\n         1.        ,  0.98518519,  0.98518519,  0.98518519,  0.97777778]),\n 'split2_test_score': array([ 1.,  1.,  1.,  1.,  1.,  1.,  1.,  1.,  1.,  1.]),\n 'split2_train_score': array([ 0.97777778,  1.        ,  1.        ,  0.97777778,  0.93333333,\n         1.        ,  0.97777778,  0.95555556,  0.97777778,  0.94814815]),\n 'split3_test_score': array([ 1.        ,  1.        ,  0.93333333,  1.        ,  1.        ,\n         0.93333333,  1.        ,  1.        ,  1.        ,  1.        ]),\n 'split3_train_score': array([ 0.97777778,  1.        ,  1.        ,  0.97777778,  0.96296296,\n         1.        ,  0.97777778,  0.97777778,  0.97777778,  0.97777778]),\n 'split4_test_score': array([ 1.        ,  1.        ,  0.86666667,  1.        ,  1.        ,\n         0.86666667,  1.        ,  1.        ,  1.        ,  1.        ]),\n 'split4_train_score': array([ 0.97777778,  1.        ,  1.        ,  0.97777778,  0.95555556,\n         1.        ,  0.97777778,  0.97037037,  0.97777778,  0.97037037]),\n 'split5_test_score': array([ 0.93333333,  0.93333333,  1.        ,  0.93333333,  0.86666667,\n         1.        ,  0.93333333,  0.93333333,  0.93333333,  0.86666667]),\n 'split5_train_score': array([ 0.97777778,  1.        ,  1.        ,  0.97777778,  0.96296296,\n         1.        ,  0.98518519,  0.97777778,  0.98518519,  0.97777778]),\n 'split6_test_score': array([ 0.93333333,  0.93333333,  0.86666667,  0.93333333,  0.93333333,\n         0.93333333,  0.93333333,  0.93333333,  0.93333333,  0.93333333]),\n 'split6_train_score': array([ 0.98518519,  1.        ,  1.        ,  0.98518519,  0.96296296,\n         1.        ,  0.97777778,  0.97777778,  0.98518519,  0.97777778]),\n 'split7_test_score': array([ 1.        ,  1.        ,  1.        ,  1.        ,  0.93333333,\n         1.        ,  1.        ,  0.93333333,  1.        ,  0.93333333]),\n 'split7_train_score': array([ 0.97777778,  1.        ,  1.        ,  0.97777778,  0.97037037,\n         1.        ,  0.97777778,  0.97037037,  0.97777778,  0.97777778]),\n 'split8_test_score': array([ 1.,  1.,  1.,  1.,  1.,  1.,  1.,  1.,  1.,  1.]),\n 'split8_train_score': array([ 0.97777778,  1.        ,  1.        ,  0.98518519,  0.96296296,\n         1.        ,  0.97777778,  0.97037037,  0.97777778,  0.97037037]),\n 'split9_test_score': array([ 1.,  1.,  1.,  1.,  1.,  1.,  1.,  1.,  1.,  1.]),\n 'split9_train_score': array([ 0.96296296,  1.        ,  1.        ,  0.97777778,  0.94074074,\n         1.        ,  0.96296296,  0.94814815,  0.95555556,  0.95555556]),\n 'std_fit_time': array([ 0.00466374,  0.00050049,  0.00024569,  0.00049205,  0.        ,\n         0.00030284,  0.00045092,  0.00041437,  0.00041328,  0.        ]),\n 'std_score_time': array([ 0.00030279,  0.00051588,  0.00025062,  0.00030048,  0.        ,\n         0.00459236,  0.00040038,  0.00038924,  0.00039793,  0.        ]),\n 'std_test_score': array([ 0.03265986,  0.0305505 ,  0.05333333,  0.03265986,  0.04422166,\n         0.04472136,  0.03265986,  0.03333333,  0.0305505 ,  0.04422166]),\n 'std_train_score': array([ 0.00573775,  0.        ,  0.        ,  0.00296296,  0.01373869,\n         0.        ,  0.00573775,  0.01070876,  0.00811441,  0.00993808])}"
      ]
     },
     "execution_count": 24,
     "metadata": {},
     "output_type": "execute_result"
    }
   ],
   "source": [
    "# n_iter controls the number of searches\n",
    "rand = RandomizedSearchCV(knn, param_dist, cv=10, scoring=\"accuracy\", n_iter=10)\n",
    "rand.fit(X, y)\n",
    "rand.cv_results_"
   ]
  },
  {
   "cell_type": "code",
   "execution_count": 22,
   "metadata": {},
   "outputs": [
    {
     "name": "stdout",
     "output_type": "stream",
     "text": [
      "0.98\n{'weights': 'distance', 'n_neighbors': 27}\n"
     ]
    }
   ],
   "source": [
    "# examine best model\n",
    "print(rand.best_score_)\n",
    "print(rand.best_params_)"
   ]
  },
  {
   "cell_type": "code",
   "execution_count": 23,
   "metadata": {},
   "outputs": [],
   "source": [
    "# RandomizedSearch finds the same best score in a fraction of the time"
   ]
  },
  {
   "cell_type": "code",
   "execution_count": null,
   "metadata": {},
   "outputs": [],
   "source": [
    ""
   ]
  }
 ],
 "metadata": {
  "kernelspec": {
   "display_name": "Python 2",
   "language": "python",
   "name": "python2"
  },
  "language_info": {
   "codemirror_mode": {
    "name": "ipython",
    "version": 2
   },
   "file_extension": ".py",
   "mimetype": "text/x-python",
   "name": "python",
   "nbconvert_exporter": "python",
   "pygments_lexer": "ipython2",
   "version": "2.7.6"
  }
 },
 "nbformat": 4,
 "nbformat_minor": 0
}
